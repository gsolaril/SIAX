{
 "metadata": {
  "language_info": {
   "codemirror_mode": {
    "name": "ipython",
    "version": 3
   },
   "file_extension": ".py",
   "mimetype": "text/x-python",
   "name": "python",
   "nbconvert_exporter": "python",
   "pygments_lexer": "ipython3",
   "version": "3.7.7-final"
  },
  "orig_nbformat": 2,
  "kernelspec": {
   "name": "Python 3.7.7 64-bit ('base': conda)",
   "display_name": "Python 3.7.7 64-bit ('base': conda)",
   "metadata": {
    "interpreter": {
     "hash": "b59f91a87f2aac9dc551349347cc85fc7570ddf7b5e94e638992cbe2e9e1cfc8"
    }
   }
  }
 },
 "nbformat": 4,
 "nbformat_minor": 2,
 "cells": [
  {
   "cell_type": "markdown",
   "metadata": {},
   "source": [
    "{[Click aquí para ver este documento en Google Colab](https://colab.research.google.com/drive/1UoFLlek8Yvpyo0CPs4vpCRFFndgAFnBm)}\n",
    "\n",
    "<head><link rel = \"stylesheet\" href = \"https://drive.google.com/uc?id=1zYOH-_Mb9jOjRbQmghdhsmZ2g6xAwakk\"></head>\n",
    "\n",
    "<table class = \"header\" width = 100%><tr>\n",
    "    <th align = \"left\">The S<code>AI</code>X Guys | AI Trading, Septiembre 2020</th>\n",
    "    <th align = \"right\">Escrito por: Gaston Solari Loudet</th>\n",
    "</tr></table>\n",
    "\n",
    "## Clase \"ZMQL\""
   ]
  },
  {
   "cell_type": "code",
   "execution_count": 1,
   "metadata": {
    "tags": []
   },
   "outputs": [],
   "source": [
    "import zmq, time, datetime, pandas, threading, IPython\n",
    "ZMQ = zmq.Context()"
   ]
  },
  {
   "cell_type": "markdown",
   "metadata": {},
   "source": [
    "### Inicialización"
   ]
  },
  {
   "cell_type": "code",
   "execution_count": 2,
   "metadata": {
    "tags": []
   },
   "outputs": [],
   "source": [
    "class ZMQL(object):\n",
    "    #| Nombres de puertos; deben llevar al principio y en mayusculas, el TIPO (ej.: \"PUSH Data\", \"SUB Trading\", etc.)\n",
    "    _PortsDef = {\"PUSH\": 32768, \"PULL\": 32769, \"SUB\": 32770} #| IDs para \"Dirección\" de cada puerto. Deben ser ints.\n",
    "    #| Lista de códigos de error de MT4 con sus descripciones, en formato \"pandas.Series\".\n",
    "    _MQErrors = pandas.read_csv(\".\\MQL4ErrorCodes.csv\").set_index(\"#\")[\"Error\"]\n",
    "    def __init__(self, context, ports = _PortsDef, verbose = False):\n",
    "        assert isinstance(verbose, bool), \"((INIT)) ERROR! \\\"verbose\\\" may either be \\\"True\\\", \\\"False\\\" or \\\"None\\\".\"\n",
    "        assert isinstance(context, zmq.sugar.context.Context), \"((INIT)) ERROR! Use a valid (zmq.) \\\"context\\\" input.\"\n",
    "        warn = \"((INIT)) ERROR! \\\"ports\\\" dict may be something like: {\\\"PUSH ...\\\": (int), \\\"PULL ...\\\": (int), ...}.\"\n",
    "        assert isinstance(ports, dict) and all([isinstance(port, int) for port in ports.values()]), warn\n",
    "        assert (list(ports.values()) == list(set(ports.values()))), warn + \" Each key/value must be unique.\"\n",
    "        #| Dataframe con objetos de comunicación: con todas las variables de acceso al protocolo.\n",
    "        self.Comm = pandas.DataFrame(columns = [\"Port\"], index = ports.keys(), data = ports.values())\n",
    "        self.Enable = {\"comm\": True, \"verbose\": verbose} #| Diccionario con parámetros de control.\n",
    "        self.Poller = zmq.Poller() #| Inicializar \"poll\" para empezar a detectar llegada de mensajes.\n",
    "        print(\"---------------------------------------\"*2)\n",
    "        for label in self.Comm.index: #| Ir creando cada uno de los puertos de comunicación con MetaTrader.\n",
    "            assert isinstance(ports[label], int), \"((INIT)) ERROR! Ports must be integers and respond to MT4.\"\n",
    "            if (verbose != None): print(f\">>{label}<< Connecting to port {ports[label]}. Await for response...\")\n",
    "            enum = eval(\"zmq.\" + label.split(' ')[0]) #| \"Enum\" de ZMQ que distingue que tipo de puerto es.\n",
    "            self.Comm.loc[label, \"Enum\"] = enum #| Guardar este \"Enum\" en el DataFrame de objetos de comunicación.\n",
    "            Socket = context.socket(enum) #| Crear socket: portal de envío, recepción e interpretación de mensajes.\n",
    "            self.Comm.loc[label, \"Socket\"] = Socket #| Guardar socket en DataFrame de objetos de comunicación.\n",
    "            Socket.connect(f\"tcp://localhost:{ports[label]}\") #| Conectar cada dirección al protocolo común (ethernet).\n",
    "            if (enum == zmq.PUSH): Socket.setsockopt(zmq.SNDHWM, 1) #| Limitar memoria para cache de puertos PUSH.\n",
    "            if (enum == zmq.PULL): Socket.setsockopt(zmq.RCVHWM, 1) #| Limitar memoria para cache de puertos PULL.\n",
    "            if (enum == zmq.SUB): Socket.setsockopt(zmq.SUBSCRIBE, b\"\") #| Limitar memoria para cache de puertos SUB.\n",
    "            if enum in (zmq.PULL, zmq.SUB): self.Poller.register(Socket, zmq.POLLIN) #| Crear \"listeners\" para recepción.\n",
    "            self.Comm.loc[label, \"Cache\"] = \"\" #| Crear columna en DataFrame como \"inbox de últimos mensajes\".\n",
    "            #| Initialize poll set for message parsing.\n",
    "        print(\"---------------------------------------\"*2)\n",
    "        self.Comm[[\"Port\", \"Enum\"]] = self.Comm[[\"Port\", \"Enum\"]].astype(int) #| Guardar \"Enums\" de ZMQ como ints."
   ]
  },
  {
   "source": [
    "### Deinicialización"
   ],
   "cell_type": "markdown",
   "metadata": {}
  },
  {
   "cell_type": "code",
   "execution_count": 3,
   "metadata": {
    "tags": []
   },
   "outputs": [],
   "source": [
    "class ZMQL(ZMQL):\n",
    "    def __init__(self, context, ports = ZMQL._PortsDef, verbose = False):\n",
    "        super().__init__(context, ports = ports, verbose = verbose)\n",
    "    def shutdown(self):\n",
    "        print(\"---------------------------------------\"*2)\n",
    "        for label in self.Comm.index: #| Por cada puerto...\n",
    "            #| Dar el \"listener\" de baja, si es un puerto de recepción.\n",
    "            if (\"PULL\" in label) or (\"SUB\" in label):\n",
    "                self.Poller.unregister(self.Comm[\"Socket\"][label])\n",
    "            port = self.Comm[\"Port\"][label] #| Adquirir ID de cada puerto.\n",
    "            address = f\"tcp://localhost:{port}\" #| Armar dirección en protocolo.\n",
    "            self.Comm[\"Socket\"][label].disconnect(address) #| Disasociar de dirección.\n",
    "            print(f\">>{label}<< Disconnected from port {port}.\") #| Informar en consola.\n",
    "        print(\"---------------------------------------\"*2)"
   ]
  },
  {
   "cell_type": "markdown",
   "metadata": {},
   "source": [
    "#### Prueba"
   ]
  },
  {
   "cell_type": "code",
   "execution_count": 4,
   "metadata": {
    "tags": []
   },
   "outputs": [
    {
     "output_type": "stream",
     "name": "stdout",
     "text": [
      "------------------------------------------------------------------------------\n>>PUSH<< Connecting to port 32768. Await for response...\n>>PULL<< Connecting to port 32769. Await for response...\n>>SUB<< Connecting to port 32770. Await for response...\n------------------------------------------------------------------------------\n------------------------------------------------------------------------------\n>>PUSH<< Disconnected from port 32768.\n>>PULL<< Disconnected from port 32769.\n>>SUB<< Disconnected from port 32770.\n------------------------------------------------------------------------------\n"
     ]
    }
   ],
   "source": [
    "INST = ZMQL(context = ZMQ, verbose = True)   ;   INST.shutdown()"
   ]
  },
  {
   "cell_type": "markdown",
   "metadata": {},
   "source": [
    "### Transmisión"
   ]
  },
  {
   "cell_type": "code",
   "execution_count": 5,
   "metadata": {},
   "outputs": [],
   "source": [
    "class ZMQL(ZMQL):\n",
    "    def __init__(self, context, ports = ZMQL._PortsDef, verbose = False):\n",
    "        super().__init__(context, ports = ports, verbose = verbose)\n",
    "        #| Enviar un primer mensaje, como prueba.\n",
    "        self._send(socket = \"PUSH\", message = \"Check; ; ; ; ; ; ; ; ; \")\n",
    "    def _send(self, socket, message):\n",
    "        if not isinstance(socket, str) or not isinstance(message, str):\n",
    "            print(f\">>{socket}<< ERROR! Message to be sent, must be string\") ; return\n",
    "        if \"PUSH\" not in socket: return #| Los puertos no PUSH no estan hechos para enviar mensajes.\n",
    "        self.Comm.loc[socket, \"Cache\"] = message #| Antes que nada, conservar copia del mensaje.\n",
    "        try: #| Poner mensaje en \"fila de espera\" del socket. Enviar de inmediato apenas disponible.\n",
    "            self.Comm[\"Socket\"][socket].send_string(message, zmq.DONTWAIT) \n",
    "            if (self.Enable[\"verbose\"] != None): print(f\"[{socket}] Command sent: [{message}]\")\n",
    "            time.sleep(0.02) #| Esperar un poco para darle tiempo a la llegada de la respuesta.\n",
    "        except zmq.error.Again: #| Limitar la espera del mensaje. Informar cuando esperó demasiado.\n",
    "            print(f\">>{socket}<< Warning! Timeout with no response... try again.\")"
   ]
  },
  {
   "cell_type": "markdown",
   "metadata": {},
   "source": [
    "#### Prueba"
   ]
  },
  {
   "cell_type": "code",
   "execution_count": 6,
   "metadata": {
    "tags": []
   },
   "outputs": [
    {
     "output_type": "stream",
     "name": "stdout",
     "text": [
      "------------------------------------------------------------------------------\n>>PUSH<< Connecting to port 32768. Await for response...\n>>PULL<< Connecting to port 32769. Await for response...\n>>SUB<< Connecting to port 32770. Await for response...\n------------------------------------------------------------------------------\n[PUSH] Command sent: [Check; ; ; ; ; ; ; ; ; ]\n------------------------------------------------------------------------------\n>>PUSH<< Disconnected from port 32768.\n>>PULL<< Disconnected from port 32769.\n>>SUB<< Disconnected from port 32770.\n------------------------------------------------------------------------------\n"
     ]
    }
   ],
   "source": [
    "INST = ZMQL(context = ZMQ)   ;   INST.shutdown()"
   ]
  },
  {
   "cell_type": "markdown",
   "metadata": {},
   "source": [
    "### Recepción"
   ]
  },
  {
   "cell_type": "code",
   "execution_count": 7,
   "metadata": {
    "tags": []
   },
   "outputs": [],
   "source": [
    "class ZMQL(ZMQL):\n",
    "    def __init__(self, context, ID, ports = ZMQL._PortsDef, verbose = False):\n",
    "        super().__init__(context, ports = ports, verbose = verbose)\n",
    "        self.Thread = threading.Thread(name = ID, target = self._receive)\n",
    "        self.Thread.daemon = True\n",
    "        self.Thread.start()\n",
    "    def _receive(self):\n",
    "        while self.Enable[\"comm\"]: #| Dentro del hilo paralelo, siempre y cuando este parámetro de control sea \"True\"...\n",
    "            sockets_polled = dict(self.Poller.poll()) #| Chequear cuales son los puertos que han recibido algo.\n",
    "            for label in self.Comm.index: #| Tomar a cada uno de los puertos que tengo registrados.\n",
    "                Socket = self.Comm[\"Socket\"][label] #| De ellos, tomar a cada uno de los sockets.\n",
    "                if (Socket not in sockets_polled.keys()): continue #| Saltear los que no son de recepción. \n",
    "                if (sockets_polled[Socket] != zmq.POLLIN): continue #| Saltear los que no hayan recibido nada.\n",
    "                try: message = self.Comm[\"Socket\"][label].recv_string(zmq.DONTWAIT) #| Formular respuesta como string.\n",
    "                except: message = None #| Si no se pudo formular el string de respuesta, es que no hubo respuesta.\n",
    "                if message: #| Si se formuló una respuesta, parsearla literalmente como una \"linea de Python\".\n",
    "                    try: self._process(eval(message)) #| Por ejemplo: \"eval('x = 2')\" hace que \"x\" sea \"2\".\n",
    "                    #| \"self._process\" va a ser una función que va a procesar la variable implicada.\n",
    "                    except Exception as ex: #| Cuando hubo un error al procesarla...\n",
    "                        if (self.Enable[\"verbose\"] != None): #| Si se activó el verbose de errores \"no graves\"...\n",
    "                            warning = f\"Type: {type(ex)}. Args: {ex.args}\" #| Mostrar mensaje de error.\n",
    "                            print(f\">>{label}<< Warning! Reception error --> {warning}\")\n",
    "                        continue #| No bloquear el bucle paralelo de recepción luego de un error de recepción.\n",
    "                    self.Comm.loc[label, \"Cache\"] = message #| Guardar string en Cache de puerto tal y como llegó.\n",
    "                    #| Verbose de 2º grado (False/True): Mostrar mensajes PULL. En general, son respuestas de sends.\n",
    "                    if (self.Enable[\"verbose\"] != None) and (label == \"PULL\"):\n",
    "                        print(f\">>{label}<< Received --> {message}\", flush = True)\n",
    "                    #| Verbose de 3º grado (solo True): Mostrar mensajes SUB. En general, datos asincrónicos (ticks).\n",
    "                    if (self.Enable[\"verbose\"] == True) and (label == \"SUB\"):\n",
    "                        print(f\">>{label}<< Received --> {message}\", flush = True)\n",
    "                    time.sleep(0.001) #| Apenas pausar al sistema para impedir saturación de punto de recepción."
   ]
  },
  {
   "source": [],
   "cell_type": "markdown",
   "metadata": {}
  },
  {
   "cell_type": "code",
   "execution_count": 8,
   "metadata": {},
   "outputs": [],
   "source": [
    "class ZMQL(ZMQL):\n",
    "    _IDError = \"((INIT)) ERROR! \\\"ID\\\" must be a different string from other block IDs.\"\n",
    "    def __init__(self, context, ID, ports = ZMQL._PortsDef, verbose = False):\n",
    "        assert isinstance(ID, str), ZMQL._IDError \n",
    "        super().__init__(context, ID = ID, ports = ports, verbose = verbose)\n",
    "        self._DebugLog = pandas.Series({datetime.datetime.now(): \"Start\"})\n",
    "    def _process(self, message):\n",
    "        self._DebugLog[datetime.datetime.now()] = str(message) #| Añadir al final del log.\n",
    "        excess = max(0, len(self._DebugLog) - 100) #| Medir si hay un exceso de mensajes.\n",
    "        self._DebugLog = self._DebugLog[excess :]  #| Conservar siempre los últimos 100."
   ]
  },
  {
   "cell_type": "markdown",
   "metadata": {},
   "source": [
    "#### Prueba"
   ]
  },
  {
   "cell_type": "code",
   "execution_count": 26,
   "metadata": {
    "tags": []
   },
   "outputs": [],
   "source": [
    "INST = ZMQL(ID = \"SAIX\", context = ZMQ, verbose = True)"
   ]
  },
  {
   "cell_type": "code",
   "execution_count": 47,
   "metadata": {},
   "outputs": [
    {
     "output_type": "stream",
     "name": "stdout",
     "text": [
      "[PUSH] Command sent: [Ticks;EURUSD;-20;3; ; ; ; ; ; ]\n"
     ]
    }
   ],
   "source": [
    "INST._send(\"PUSH\", f\"Ticks;EURUSD;-20;3; ; ; ; ; ; \")"
   ]
  },
  {
   "cell_type": "code",
   "execution_count": 43,
   "metadata": {
    "tags": []
   },
   "outputs": [
    {
     "output_type": "stream",
     "name": "stdout",
     "text": [
      "[PUSH] Command sent: [Ticks;EURUSD;1;0; ; ; ; ; ; ]\n",
      ">>PULL<< Received --> {'Ticks': ['EURUSD', 1]}\n",
      "[PUSH] Command sent: [Ticks;BTCUSD;-5;1; ; ; ; ; ; ]\n",
      ">>PULL<< Received --> {'Ticks': ['BTCUSD', -5]}\n",
      "[PUSH] Command sent: [Ticks;US500;10;2; ; ; ; ; ; ]\n",
      ">>PULL<< Received --> {'Ticks': ['US500', 10]}\n",
      "[PUSH] Command sent: [Ticks;ETHUSD;60;3; ; ; ; ; ; ]\n",
      ">>PULL<< Received --> {'Ticks': ['ETHUSD', 60]}\n",
      "[PUSH] Command sent: [Ticks;XAUUSD;-20;4; ; ; ; ; ; ]\n"
     ]
    },
    {
     "output_type": "execute_result",
     "data": {
      "text/plain": [
       "       Port  Enum                                             Socket  \\\n",
       "PUSH  32768     8  <zmq.sugar.socket.Socket object at 0x000001E3B...   \n",
       "PULL  32769     7  <zmq.sugar.socket.Socket object at 0x000001E3B...   \n",
       "SUB   32770     2  <zmq.sugar.socket.Socket object at 0x000001E3B...   \n",
       "\n",
       "                                                  Cache  \n",
       "PUSH                     Ticks;XAUUSD;-20;4; ; ; ; ; ;   \n",
       "PULL                          {'Ticks': ['ETHUSD', 60]}  \n",
       "SUB   {'US500': [1602805504.565525,1.17,11545.38,1.1...  "
      ],
      "text/html": "<div>\n<style scoped>\n    .dataframe tbody tr th:only-of-type {\n        vertical-align: middle;\n    }\n\n    .dataframe tbody tr th {\n        vertical-align: top;\n    }\n\n    .dataframe thead th {\n        text-align: right;\n    }\n</style>\n<table border=\"1\" class=\"dataframe\">\n  <thead>\n    <tr style=\"text-align: right;\">\n      <th></th>\n      <th>Port</th>\n      <th>Enum</th>\n      <th>Socket</th>\n      <th>Cache</th>\n    </tr>\n  </thead>\n  <tbody>\n    <tr>\n      <th>PUSH</th>\n      <td>32768</td>\n      <td>8</td>\n      <td>&lt;zmq.sugar.socket.Socket object at 0x000001E3B...</td>\n      <td>Ticks;XAUUSD;-20;4; ; ; ; ; ;</td>\n    </tr>\n    <tr>\n      <th>PULL</th>\n      <td>32769</td>\n      <td>7</td>\n      <td>&lt;zmq.sugar.socket.Socket object at 0x000001E3B...</td>\n      <td>{'Ticks': ['ETHUSD', 60]}</td>\n    </tr>\n    <tr>\n      <th>SUB</th>\n      <td>32770</td>\n      <td>2</td>\n      <td>&lt;zmq.sugar.socket.Socket object at 0x000001E3B...</td>\n      <td>{'US500': [1602805504.565525,1.17,11545.38,1.1...</td>\n    </tr>\n  </tbody>\n</table>\n</div>"
     },
     "metadata": {},
     "execution_count": 43
    }
   ],
   "source": [
    "#symbol = \"ETHUSD\"\n",
    "INST._send(\"PUSH\", f\"Ticks;EURUSD;1;0; ; ; ; ; ; \")\n",
    "INST._send(\"PUSH\", f\"Ticks;BTCUSD;-5;1; ; ; ; ; ; \")\n",
    "INST._send(\"PUSH\", f\"Ticks;US500;10;2; ; ; ; ; ; \")\n",
    "INST._send(\"PUSH\", f\"Ticks;ETHUSD;60;3; ; ; ; ; ; \")\n",
    "INST._send(\"PUSH\", f\"Ticks;XAUUSD;-20;4; ; ; ; ; ; \")\n",
    "# x = eval(INST.Comm[\"Cache\"][\"PULL\"])\n",
    "INST.Comm"
   ]
  },
  {
   "cell_type": "code",
   "execution_count": 48,
   "metadata": {},
   "outputs": [
    {
     "output_type": "execute_result",
     "data": {
      "text/plain": [
       "2020-10-15 17:44:07.010284    {'EURUSD': [1602805446.025144, 1.17087, 1.1708...\n",
       "2020-10-15 17:44:08.011793    {'EURUSD': [1602805447.028248, 1.17087, 1.1708...\n",
       "2020-10-15 17:44:09.002516    {'EURUSD': [1602805448.024322, 1.17087, 1.1708...\n",
       "2020-10-15 17:44:10.011538    {'EURUSD': [1602805449.009824, 1.17087, 1.1708...\n",
       "2020-10-15 17:44:11.009286    {'EURUSD': [1602805450.027448, 1.17087, 1.1708...\n",
       "2020-10-15 17:44:12.011681    {'EURUSD': [1602805451.028715, 1.17087, 1.1708...\n",
       "2020-10-15 17:44:13.009341    {'EURUSD': [1602805452.024697, 1.17087, 1.1708...\n",
       "2020-10-15 17:44:14.012707    {'EURUSD': [1602805453.02645, 1.17087, 1.17087...\n",
       "2020-10-15 17:44:15.009542    {'EURUSD': [1602805454.02689, 1.17087, 1.17087...\n",
       "2020-10-15 17:44:16.010090    {'EURUSD': [1602805455.024517, 1.17087, 1.1708...\n",
       "2020-10-15 17:44:17.013340    {'EURUSD': [1602805456.027671, 1.17088, 1.1708...\n",
       "2020-10-15 17:44:18.015180    {'EURUSD': [1602805457.025441, 1.17088, 1.1708...\n",
       "2020-10-15 17:44:19.005785    {'EURUSD': [1602805458.025546, 1.17088, 1.1709...\n",
       "2020-10-15 17:44:20.011682    {'EURUSD': [1602805459.0096, 1.1709, 1.1709, 1...\n",
       "2020-10-15 17:44:21.010507    {'EURUSD': [1602805460.026606, 1.17088, 1.1708...\n",
       "2020-10-15 17:44:22.003343    {'EURUSD': [1602805461.024593, 1.17086, 1.1708...\n",
       "2020-10-15 17:44:23.015846    {'EURUSD': [1602805462.008831, 1.17086, 1.1708...\n",
       "2020-10-15 17:44:24.010886    {'EURUSD': [1602805463.023119, 1.17086, 1.1708...\n",
       "2020-10-15 17:44:25.012864    {'EURUSD': [1602805464.025193, 1.17086, 1.1708...\n",
       "2020-10-15 17:44:26.012488    {'EURUSD': [1602805465.02528, 1.17086, 1.17086...\n",
       "2020-10-15 17:44:27.010207    {'EURUSD': [1602805466.024692, 1.17086, 1.1708...\n",
       "2020-10-15 17:44:28.010457    {'EURUSD': [1602805467.028029, 1.17087, 1.1709...\n",
       "2020-10-15 17:44:29.009674    {'EURUSD': [1602805468.024095, 1.1709, 1.1709,...\n",
       "2020-10-15 17:44:30.009829    {'EURUSD': [1602805469.026999, 1.17089, 1.1708...\n",
       "2020-10-15 17:44:31.009367    {'EURUSD': [1602805470.026726, 1.17089, 1.1708...\n",
       "2020-10-15 17:44:32.010659    {'EURUSD': [1602805471.024387, 1.17089, 1.1708...\n",
       "2020-10-15 17:44:33.013806    {'EURUSD': [1602805472.033444, 1.17089, 1.1708...\n",
       "2020-10-15 17:44:34.010499    {'EURUSD': [1602805473.027959, 1.17089, 1.1708...\n",
       "2020-10-15 17:44:35.010825    {'EURUSD': [1602805474.025688, 1.17088, 1.1708...\n",
       "2020-10-15 17:44:36.010205    {'EURUSD': [1602805475.024686, 1.17088, 1.1708...\n",
       "2020-10-15 17:44:37.010050    {'EURUSD': [1602805476.024034, 1.17088, 1.1708...\n",
       "2020-10-15 17:44:38.012735    {'EURUSD': [1602805477.024226, 1.17088, 1.1708...\n",
       "2020-10-15 17:44:39.010197    {'EURUSD': [1602805478.025586, 1.17087, 1.1708...\n",
       "2020-10-15 17:44:40.003676    {'EURUSD': [1602805479.024034, 1.17087, 1.1708...\n",
       "2020-10-15 17:44:41.009646    {'EURUSD': [1602805480.009822, 1.17087, 1.1708...\n",
       "2020-10-15 17:44:42.009387    {'EURUSD': [1602805481.026526, 1.17088, 1.1708...\n",
       "2020-10-15 17:44:43.012607    {'EURUSD': [1602805482.027179, 1.17088, 1.1708...\n",
       "2020-10-15 17:44:44.015635    {'EURUSD': [1602805483.026487, 1.17088, 1.1708...\n",
       "2020-10-15 17:44:45.012639    {'EURUSD': [1602805484.024652, 1.17088, 1.1708...\n",
       "2020-10-15 17:44:45.933775                       {'Shutdown': 'Please wait...'}\n",
       "2020-10-15 17:45:04.534717                             {'Ticks': ['EURUSD', 1]}\n",
       "2020-10-15 17:45:04.566630                            {'Ticks': ['BTCUSD', -5]}\n",
       "2020-10-15 17:45:04.576601                             {'Ticks': ['US500', 10]}\n",
       "2020-10-15 17:45:04.586574    {'US500': [1602805504.565525, 1.17, 11545.38, ...\n",
       "2020-10-15 17:45:04.600538                            {'Ticks': ['ETHUSD', 60]}\n",
       "2020-10-15 17:46:52.426320                       {'Shutdown': 'Please wait...'}\n",
       "2020-10-15 17:47:06.495293                             {'Ticks': ['EURUSD', 1]}\n",
       "2020-10-15 17:47:06.513758                            {'Ticks': ['BTCUSD', -5]}\n",
       "2020-10-15 17:47:06.545670                             {'Ticks': ['US500', 10]}\n",
       "2020-10-15 17:47:06.565617                            {'Ticks': ['ETHUSD', 60]}\n",
       "dtype: object"
      ]
     },
     "metadata": {},
     "execution_count": 48
    }
   ],
   "source": [
    "INST._DebugLog[-50:]"
   ]
  },
  {
   "cell_type": "markdown",
   "metadata": {},
   "source": [
    "### Datos OHLCVS\n",
    "\n",
    "#### Descarga"
   ]
  },
  {
   "cell_type": "markdown",
   "metadata": {},
   "source": [
    "#### Prueba"
   ]
  },
  {
   "cell_type": "markdown",
   "metadata": {},
   "source": [
    "#### Procesamiento"
   ]
  },
  {
   "cell_type": "markdown",
   "metadata": {},
   "source": [
    "#### Prueba"
   ]
  },
  {
   "cell_type": "code",
   "execution_count": null,
   "metadata": {},
   "outputs": [],
   "source": [
    "INST.MsgDebugLog"
   ]
  },
  {
   "cell_type": "markdown",
   "metadata": {},
   "source": [
    "### \"SUB\" para suscripción.\n",
    "\n",
    "Antes que nada, una aclaración: cuando alguien en el mundo envia una orden a mi broker (ya sea de compra, venta, modificación o cierre), los números del Order Book son obviamente alterados. A esta alteración se le llama \"tick\". Un \"dato de tick\" es la obtención de únicamente la primera fila del Order Book (comunmente llamada \"nivel 1\") cuando sucede un tick. Por definición, dicha fila contiene aquellos precios de \"Bid\" y \"Ask\" que están mas cercanos entre sí, y que dan lugar al spread.\n",
    "\n",
    "Un dato de tick puede ser:\n",
    "- \"<u>bilateral</u>\": incluye ambos valores de volúmen. Uno para \"Bid\" y otro para \"Ask\".\n",
    "- \"<u>unilateral</u>\": comprende solamente un único valor de volúmen, dado por la suma de ambos lados.\n",
    "\n",
    "La mayoría de los brokers no proveen de datos a nivel Order Book, ni tampoco datos de tick bilaterales. Sin embargo, tener en cuenta que los Expert Advisors de MetaTrader tienen la capacidad de ejecutar su rutina de trabajo cada vez que sucede un tick. De eso mismo se encarga la función \"``OnTick()``\" en MQL. De hecho, lo que el conector de DWX para MetaTrader contiene dentro de su \"``OnTick()``\" es la rutina de guardar (en un array) y luego enviar a mi Python (via ZMQ) los últimos valores de ``B``id, ``A``sk y (único) ``V``olumen."
   ]
  },
  {
   "cell_type": "markdown",
   "metadata": {},
   "source": [
    "#### Prueba"
   ]
  },
  {
   "cell_type": "code",
   "execution_count": null,
   "metadata": {},
   "outputs": [],
   "source": []
  },
  {
   "cell_type": "markdown",
   "metadata": {},
   "source": [
    "#### Procesamiento"
   ]
  },
  {
   "cell_type": "code",
   "execution_count": null,
   "metadata": {},
   "outputs": [],
   "source": []
  },
  {
   "cell_type": "markdown",
   "metadata": {},
   "source": [
    "#### Prueba"
   ]
  },
  {
   "cell_type": "code",
   "execution_count": null,
   "metadata": {},
   "outputs": [],
   "source": [
    "datetime.datetime.now().timestamp()"
   ]
  },
  {
   "cell_type": "code",
   "execution_count": null,
   "metadata": {},
   "outputs": [],
   "source": [
    "ZMQL._MQErrors.loc[\"4073\"]"
   ]
  },
  {
   "cell_type": "code",
   "execution_count": null,
   "metadata": {},
   "outputs": [],
   "source": [
    "ZMQL._MQErrors[4073]"
   ]
  },
  {
   "cell_type": "code",
   "execution_count": null,
   "metadata": {},
   "outputs": [],
   "source": []
  }
 ]
}