{
 "cells": [
  {
   "cell_type": "code",
   "execution_count": 1,
   "metadata": {},
   "outputs": [
    {
     "name": "stdout",
     "output_type": "stream",
     "text": [
      "------------------------------------------------------------------------------\n",
      ">>PUSH<< Connecting to port 32768. Await for response...\n",
      ">>PULL<< Connecting to port 32769. Await for response...\n",
      ">>SUB<< Connecting to port 32770. Await for response...\n",
      "------------------------------------------------------------------------------\n",
      "[PUSH] Command sent: [Check; ; ; ; ; ; ; ; ; ]\n",
      ">>PULL<< Received --> {'Check': 'PULL'}\n",
      ">>PULL<< Received --> {'Check': [('SUB'), ['PULL']]}\n"
     ]
    }
   ],
   "source": [
    "import ZMQL, zmq, time, datetime, pandas, threading, IPython\n",
    "ZMQ=zmq.Context()\n",
    "x=ZMQL.ZMQL(ID=\"s AI x\", context=ZMQ, verbose=True)"
   ]
  },
  {
   "cell_type": "code",
   "execution_count": 4,
   "metadata": {},
   "outputs": [
    {
     "name": "stdout",
     "output_type": "stream",
     "text": [
      "[PUSH] Command sent: [OHLCV;EURUSD;1;1602108710.214163;1602708710.214163; ; ; ; ; ]\n",
      ">>PULL<< Received --> {'OHLCV': ['EURUSD', 1, 1602119510, 1602719510, 7089]}\n"
     ]
    }
   ],
   "source": [
    "t2=datetime.datetime.now().timestamp()\n",
    "t1=t2-(60*10000)\n",
    "x._send(\"PUSH\",f\"OHLCV;EURUSD;1;{t1};{t2}; ; ; ; ; \")"
   ]
  },
  {
   "cell_type": "code",
   "execution_count": 5,
   "metadata": {},
   "outputs": [
    {
     "name": "stdout",
     "output_type": "stream",
     "text": [
      "[PUSH] Command sent: [OHLCV;US500;1;1602108715.389896;1602708715.389896; ; ; ; ; ]\n",
      ">>PULL<< Received --> {'OHLCV': ['US500', 1, 1602119515, 1602719515, 2050]}\n"
     ]
    }
   ],
   "source": [
    "t2=datetime.datetime.now().timestamp()\n",
    "t1=t2-(60*10000)\n",
    "x._send(\"PUSH\",f\"OHLCV;US500;1;{t1};{t2}; ; ; ; ; \")"
   ]
  },
  {
   "cell_type": "code",
   "execution_count": null,
   "metadata": {},
   "outputs": [],
   "source": []
  }
 ],
 "metadata": {
  "kernelspec": {
   "display_name": "Python 3",
   "language": "python",
   "name": "python3"
  },
  "language_info": {
   "codemirror_mode": {
    "name": "ipython",
    "version": 3
   },
   "file_extension": ".py",
   "mimetype": "text/x-python",
   "name": "python",
   "nbconvert_exporter": "python",
   "pygments_lexer": "ipython3",
   "version": "3.8.5"
  }
 },
 "nbformat": 4,
 "nbformat_minor": 4
}
