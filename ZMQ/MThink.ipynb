{
 "metadata": {
  "language_info": {
   "codemirror_mode": {
    "name": "ipython",
    "version": 3
   },
   "file_extension": ".py",
   "mimetype": "text/x-python",
   "name": "python",
   "nbconvert_exporter": "python",
   "pygments_lexer": "ipython3",
   "version": 3
  },
  "orig_nbformat": 2
 },
 "nbformat": 4,
 "nbformat_minor": 2,
 "cells": [
  {
   "source": [
    "{[Click aquí para ver este documento en Google Colab](https://colab.research.google.com/drive/1UoFLlek8Yvpyo0CPs4vpCRFFndgAFnBm)}\n",
    "\n",
    "<head><link rel = \"stylesheet\" href = \"https://drive.google.com/uc?id=1zYOH-_Mb9jOjRbQmghdhsmZ2g6xAwakk\"></head>\n",
    "\n",
    "<table class = \"header\" width = 100%><tr>\n",
    "    <th align = \"left\">The S<code>AI</code>X Guys | AI Trading, Septiembre 2020</th>\n",
    "    <th align = \"right\">Escrito por: Gaston Solari Loudet</th>\n",
    "</tr></table>\n",
    "\n",
    "## Clase \"MThink\""
   ],
   "cell_type": "markdown",
   "metadata": {}
  },
  {
   "cell_type": "code",
   "execution_count": null,
   "metadata": {},
   "outputs": [],
   "source": [
    "import os, zmq, ZMQL\n",
    "Context_MTracker = zmq.Context()"
   ]
  },
  {
   "source": [],
   "cell_type": "markdown",
   "metadata": {}
  },
  {
   "cell_type": "code",
   "execution_count": null,
   "metadata": {},
   "outputs": [],
   "source": [
    "class MThink(object):\n",
    "    def __init__(self, strats, ):\n",
    "        self.load_strats"
   ]
  }
 ]
}